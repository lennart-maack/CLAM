{
 "cells": [
  {
   "cell_type": "markdown",
   "metadata": {},
   "source": [
    "# Cleaning the Groundtruth File\n",
    "0. Drop all columns where 'num_patches' == NaN\n",
    "1. Only keep the columns 'PatientID', 'Histologischer Subtyp', 'WSI1', 'WSI2', 'WSI3'\n",
    "2. All columns with 'Histologischer Subtyp' == 'nicht typisierbar', 'Anaplastisch', 'Desmoplastisch*', 'Desmoplastisch/Anaplastisch', 'Medullomyoblastom', 'Großzellig/anapl.' are thrown out\n",
    "3. All 'klassisch' and 'Klassisch' values are renamed to CMB\n",
    "4. All \"Extensiv nodulär\" and \"Desmoplastisch\" values are renamed to \"DN\"\n",
    "5. For now, drop the columns 'WSI2', 'WSI3'\n",
    "6. In column 'WSI1', there are sometimes multiple files in one column (they are split by '\\n' or ' ), only utilize the first file of them"
   ]
  },
  {
   "cell_type": "code",
   "execution_count": 79,
   "metadata": {},
   "outputs": [],
   "source": [
    "import pandas as pd\n",
    "import os\n",
    "\n",
    "# open xlsx as dataframe and count the all rows\n",
    "df = pd.read_excel('/home/Maack/Medulloblastoma/mb_anno_070721.xlsx')\n",
    "\n",
    "# 0.\n",
    "df_cleaned = df.dropna(subset=['num_patches'])\n",
    "\n",
    "# 1.\n",
    "df_cleaned = df_cleaned[['PatientID', 'Histologischer Subtyp', 'WSI1', 'WSI2', 'WSI3']]\n",
    "\n",
    "\n",
    "# 2.\n",
    "df_cleaned = df_cleaned[df_cleaned['Histologischer Subtyp'] != 'nicht typisierbar']\n",
    "df_cleaned = df_cleaned[df_cleaned['Histologischer Subtyp'] != 'Anaplastisch']\n",
    "df_cleaned = df_cleaned[df_cleaned['Histologischer Subtyp'] != 'Desmoplastisch*']\n",
    "df_cleaned = df_cleaned[df_cleaned['Histologischer Subtyp'] != 'Desmoplastisch/Anaplastisch']\n",
    "df_cleaned = df_cleaned[df_cleaned['Histologischer Subtyp'] != 'Medullomyoblastom']\n",
    "df_cleaned = df_cleaned[df_cleaned['Histologischer Subtyp'] != 'Großzellig/anapl.']\n",
    "\n",
    "# 3.\n",
    "df_cleaned['Histologischer Subtyp'] = df_cleaned['Histologischer Subtyp'].replace('klassisch', 'CMB')\n",
    "df_cleaned['Histologischer Subtyp'] = df_cleaned['Histologischer Subtyp'].replace('Klassisch', 'CMB')\n",
    "\n",
    "# 4.\n",
    "df_cleaned['Histologischer Subtyp'] = df_cleaned['Histologischer Subtyp'].replace('Desmoplastisch', 'DN')\n",
    "df_cleaned = df_cleaned.reset_index(drop=True)\n",
    "\n",
    "# 5.\n",
    "df_cleaned = df_cleaned.drop(columns=['WSI2', 'WSI3'])\n",
    "files = os.listdir(\"/data/Maack/PANT/ndpi/NDPI\")\n",
    "\n",
    "# 6.\n",
    "for index, row in df_cleaned.iterrows():\n",
    "    if row['WSI1'] not in files:\n",
    "        new_row = row['WSI1'].split('.ndpi')\n",
    "        # create new df_cleaned with new_row\n",
    "        df_cleaned.loc[index, 'WSI1'] = f\"{new_row[0]}.ndpi\"\n",
    "        \n",
    "#export df_cleaned as csv\n",
    "df_cleaned.to_csv('/home/Maack/Medulloblastoma/mb_anno_070721_cleaned.csv', index=False)"
   ]
  },
  {
   "cell_type": "markdown",
   "metadata": {},
   "source": [
    "## Check if all files in mb_anno_070721_cleaned.csv occur in the NDPI folder "
   ]
  },
  {
   "cell_type": "code",
   "execution_count": 81,
   "metadata": {},
   "outputs": [
    {
     "name": "stdout",
     "output_type": "stream",
     "text": [
      "0\n"
     ]
    }
   ],
   "source": [
    "import pandas as pd\n",
    "import os\n",
    "\n",
    "# open xlsx as dataframe and count the all rows\n",
    "df = pd.read_csv('/home/Maack/Medulloblastoma/mb_anno_070721_cleaned.csv')\n",
    "\n",
    "files = os.listdir(\"/data/Maack/PANT/ndpi/NDPI\")\n",
    "\n",
    "\n",
    "counter = 0\n",
    "# check if all df[WSI1] are in /data/Maack/PANT/ndpi/NDPI\n",
    "for index, row in df.iterrows():\n",
    "    if row['WSI1'] not in files:\n",
    "        counter += 1\n",
    "        print(row['WSI1'])\n",
    "\n",
    "print(counter)\n"
   ]
  },
  {
   "cell_type": "markdown",
   "metadata": {},
   "source": [
    "## Delete all files that are not to be found in the ground truth."
   ]
  },
  {
   "cell_type": "code",
   "execution_count": 84,
   "metadata": {},
   "outputs": [
    {
     "name": "stdout",
     "output_type": "stream",
     "text": [
      "161\n"
     ]
    }
   ],
   "source": [
    "# df = pd.read_csv('/home/Maack/Medulloblastoma/mb_anno_070721_cleaned.csv')\n",
    "\n",
    "files = os.listdir(\"/data/Maack/PANT/ndpi/NDPI\")\n",
    "\n",
    "# # Delete all files in files that are not in df[WSI1]\n",
    "# counter = 0\n",
    "# for file in files:\n",
    "#     if file not in df['WSI1'].values:\n",
    "#         os.remove(f\"/data/Maack/PANT/ndpi/NDPI/{file}\")\n",
    "#         counter += 1\n",
    "\n",
    "# print(counter)\n",
    "\n",
    "print(len(files))"
   ]
  }
 ],
 "metadata": {
  "kernelspec": {
   "display_name": "MeduBlast",
   "language": "python",
   "name": "python3"
  },
  "language_info": {
   "codemirror_mode": {
    "name": "ipython",
    "version": 3
   },
   "file_extension": ".py",
   "mimetype": "text/x-python",
   "name": "python",
   "nbconvert_exporter": "python",
   "pygments_lexer": "ipython3",
   "version": "3.9.17"
  },
  "orig_nbformat": 4
 },
 "nbformat": 4,
 "nbformat_minor": 2
}
